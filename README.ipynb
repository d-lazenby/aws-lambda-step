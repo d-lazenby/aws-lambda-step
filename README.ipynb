{
 "cells": [
  {
   "cell_type": "markdown",
   "id": "7cb3f930",
   "metadata": {},
   "source": [
    "# AWS Sagemaker image classification and ML Workflow using Lambda and Step Functions\n",
    "\n",
    "This project was completed as part of the Udacity AWS Machine Learning Engineering Nanodegree. \n",
    "\n",
    "## Overview\n",
    "The context was that we had been hired to build an ML Workflow for a delivery company that could be used to route delivery drivers to the correct loading bay and orders by way of training an ML image classifier that could detect what kind of vehicle the drivers had. In this way, workers on bicycles could be assigned to closer orders while motorcyclists could take the further ones, thus helping to optimize operations. \n",
    "\n",
    "The project consists of the following steps.\n",
    "\n",
    "1. Data staging\n",
    "2. Model training and deployment\n",
    "3. Lambdas and Step Function workflow\n",
    "4. Testing and evaluation\n",
    "\n",
    "## Dataset\n",
    "\n",
    "To train the model we used a subset of the <a href=\"https://www.cs.toronto.edu/~kriz/cifar.html\" target=\"_blank\" rel=\"noopener\">CIFAR-100 dataset</a>, which is hosted by the University of Toronto (<a href=\"https://www.cs.toronto.edu/~kriz/learning-features-2009-TR.pdf\" target=\"_blank\" rel=\"noopener\">Learning Multiple Layers of Features from Tiny Images</a>, Alex Krizhevsky, 2009). The dataset contains 100 classes containing 600 3x32x32 pixel colour images each."
   ]
  },
  {
   "cell_type": "code",
   "execution_count": null,
   "id": "5628a7d0",
   "metadata": {},
   "outputs": [],
   "source": []
  }
 ],
 "metadata": {
  "kernelspec": {
   "display_name": "Python 3",
   "language": "python",
   "name": "python3"
  },
  "language_info": {
   "codemirror_mode": {
    "name": "ipython",
    "version": 3
   },
   "file_extension": ".py",
   "mimetype": "text/x-python",
   "name": "python",
   "nbconvert_exporter": "python",
   "pygments_lexer": "ipython3",
   "version": "3.8.8"
  }
 },
 "nbformat": 4,
 "nbformat_minor": 5
}
