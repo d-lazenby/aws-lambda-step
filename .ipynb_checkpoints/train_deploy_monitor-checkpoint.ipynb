{
 "cells": [
  {
   "cell_type": "markdown",
   "metadata": {},
   "source": [
    "# Deploy and monitor a machine learning workflow for Image Classification"
   ]
  },
  {
   "cell_type": "markdown",
   "metadata": {},
   "source": [
    "## Data Staging\n",
    "\n",
    "To obtain and prepare the training images, run `etl.py` from the command line or in this notebook. The script\n",
    "\n",
    "1. extracts the CIFAR data from a hosting service;\n",
    "2. transforms it into a usable shape and format; and\n",
    "3. prepares and organises metadata, training and testing files for training with MXNet.\n",
    "\n",
    "For more detail on the preparatory steps, see `data_prep.ipynb`."
   ]
  },
  {
   "cell_type": "markdown",
   "metadata": {},
   "source": [
    "## Load train, test and metadata to S3\n",
    "\n",
    "### Upload to S3 to prepare for training\n",
    "Declare some global variables."
   ]
  },
  {
   "cell_type": "code",
   "execution_count": 2,
   "metadata": {},
   "outputs": [
    {
     "name": "stdout",
     "output_type": "stream",
     "text": [
      "Default Bucket: sagemaker-us-east-1-432701591564\n",
      "AWS Region: us-east-1\n",
      "RoleArn: arn:aws:iam::432701591564:role/service-role/AmazonSageMaker-ExecutionRole-20230504T104025\n"
     ]
    }
   ],
   "source": [
    "import sagemaker\n",
    "\n",
    "session = sagemaker.Session()\n",
    "\n",
    "bucket = session.default_bucket()\n",
    "print(\"Default Bucket: {}\".format(bucket))\n",
    "\n",
    "region = session.boto_region_name\n",
    "print(\"AWS Region: {}\".format(region))\n",
    "\n",
    "role = sagemaker.get_execution_role()\n",
    "print(\"RoleArn: {}\".format(role))"
   ]
  },
  {
   "cell_type": "markdown",
   "metadata": {},
   "source": [
    "The following uploads the train and test images to an S3 bucket."
   ]
  },
  {
   "cell_type": "code",
   "execution_count": null,
   "metadata": {
    "tags": []
   },
   "outputs": [],
   "source": [
    "import os\n",
    "\n",
    "os.environ[\"DEFAULT_S3_BUCKET\"] = bucket\n",
    "!aws s3 sync ./train s3://${DEFAULT_S3_BUCKET}/train/\n",
    "!aws s3 sync ./test s3://${DEFAULT_S3_BUCKET}/test/"
   ]
  },
  {
   "cell_type": "markdown",
   "metadata": {},
   "source": [
    "We also upload our manifest files."
   ]
  },
  {
   "cell_type": "code",
   "execution_count": 35,
   "metadata": {},
   "outputs": [],
   "source": [
    "import boto3\n",
    "\n",
    "# Upload files\n",
    "boto3.Session().resource('s3').Bucket(\n",
    "    bucket).Object('train.lst').upload_file('./metadata/train.lst')\n",
    "boto3.Session().resource('s3').Bucket(\n",
    "    bucket).Object('test.lst').upload_file('./metadata/test.lst')"
   ]
  },
  {
   "cell_type": "markdown",
   "metadata": {},
   "source": [
    "We now retrieve the latest `image-classification` image and set an S3 location for the model."
   ]
  },
  {
   "cell_type": "code",
   "execution_count": 6,
   "metadata": {},
   "outputs": [
    {
     "name": "stderr",
     "output_type": "stream",
     "text": [
      "Defaulting to the only supported framework/algorithm version: 1. Ignoring framework/algorithm version: latest.\n"
     ]
    }
   ],
   "source": [
    "# Use the image_uris function to retrieve the latest 'image-classification' image \n",
    "algo_image = sagemaker.image_uris.retrieve(\"image-classification\", region, version='latest')\n",
    "s3_output_location = f\"s3://{bucket}/models/image_model\""
   ]
  },
  {
   "cell_type": "markdown",
   "metadata": {},
   "source": [
    "The following creates an estimator and sets relevant hyperparameters."
   ]
  },
  {
   "cell_type": "code",
   "execution_count": 4,
   "metadata": {},
   "outputs": [],
   "source": [
    "img_classifier_model=sagemaker.estimator.Estimator(\n",
    "    image_uri=algo_image,\n",
    "    role=role,\n",
    "    instance_count=1,\n",
    "    instance_type='ml.p3.2xlarge',\n",
    "    volume_size=3,\n",
    "    output_path=s3_output_location,\n",
    "    sagemaker_session=sagemaker.Session()   \n",
    ")\n",
    "\n",
    "img_classifier_model.set_hyperparameters(\n",
    "    image_shape=\"3,32,32\",\n",
    "    num_classes=2,\n",
    "    num_training_samples=1000\n",
    ")"
   ]
  },
  {
   "cell_type": "markdown",
   "metadata": {},
   "source": [
    "Input channels for training are as follows."
   ]
  },
  {
   "cell_type": "code",
   "execution_count": 6,
   "metadata": {},
   "outputs": [],
   "source": [
    "from sagemaker.session import TrainingInput\n",
    "\n",
    "model_inputs = {\n",
    "        \"train\": sagemaker.inputs.TrainingInput(\n",
    "            s3_data=f\"s3://{bucket}/train/\",\n",
    "            content_type=\"application/x-image\"\n",
    "        ),\n",
    "        \"validation\": sagemaker.inputs.TrainingInput(\n",
    "            s3_data=f\"s3://{bucket}/test/\",\n",
    "            content_type=\"application/x-image\"\n",
    "        ),\n",
    "        \"train_lst\": sagemaker.inputs.TrainingInput(\n",
    "            s3_data=f\"s3://{bucket}/train.lst\",\n",
    "            content_type=\"application/x-image\"\n",
    "        ),\n",
    "        \"validation_lst\": sagemaker.inputs.TrainingInput(\n",
    "            s3_data=f\"s3://{bucket}/test.lst\",\n",
    "            content_type=\"application/x-image\"\n",
    "        )\n",
    "}"
   ]
  },
  {
   "cell_type": "markdown",
   "metadata": {},
   "source": [
    "And we now fit the model."
   ]
  },
  {
   "cell_type": "code",
   "execution_count": 7,
   "metadata": {
    "jupyter": {
     "outputs_hidden": true
    },
    "tags": []
   },
   "outputs": [
    {
     "name": "stderr",
     "output_type": "stream",
     "text": [
      "INFO:sagemaker:Creating training-job with name: image-classification-2023-06-17-16-23-57-606\n"
     ]
    },
    {
     "name": "stdout",
     "output_type": "stream",
     "text": [
      "2023-06-17 16:23:58 Starting - Starting the training job...\n",
      "2023-06-17 16:24:22 Starting - Preparing the instances for training......\n",
      "2023-06-17 16:25:31 Downloading - Downloading input data...\n",
      "2023-06-17 16:25:56 Training - Downloading the training image...............\n",
      "2023-06-17 16:28:27 Training - Training image download completed. Training in progress...\u001b[34mDocker entrypoint called with argument(s): train\u001b[0m\n",
      "\u001b[34mRunning default environment configuration script\u001b[0m\n",
      "\u001b[34mNvidia gpu devices, drivers and cuda toolkit versions (only available on hosts with GPU):\u001b[0m\n",
      "\u001b[34mSat Jun 17 16:28:51 2023       \u001b[0m\n",
      "\u001b[34m+-----------------------------------------------------------------------------+\u001b[0m\n",
      "\u001b[34m| NVIDIA-SMI 525.85.12    Driver Version: 525.85.12    CUDA Version: 12.0     |\u001b[0m\n",
      "\u001b[34m|-------------------------------+----------------------+----------------------+\u001b[0m\n",
      "\u001b[34m| GPU  Name        Persistence-M| Bus-Id        Disp.A | Volatile Uncorr. ECC |\u001b[0m\n",
      "\u001b[34m| Fan  Temp  Perf  Pwr:Usage/Cap|         Memory-Usage | GPU-Util  Compute M. |\u001b[0m\n",
      "\u001b[34m|                               |                      |               MIG M. |\u001b[0m\n",
      "\u001b[34m|===============================+======================+======================|\u001b[0m\n",
      "\u001b[34m|   0  Tesla V100-SXM2...  On   | 00000000:00:1E.0 Off |                    0 |\u001b[0m\n",
      "\u001b[34m| N/A   40C    P0    24W / 300W |      0MiB / 16384MiB |      0%      Default |\u001b[0m\n",
      "\u001b[34m|                               |                      |                  N/A |\u001b[0m\n",
      "\u001b[34m+-------------------------------+----------------------+----------------------+\n",
      "                                                                               \u001b[0m\n",
      "\u001b[34m+-----------------------------------------------------------------------------+\u001b[0m\n",
      "\u001b[34m| Processes:                                                                  |\u001b[0m\n",
      "\u001b[34m|  GPU   GI   CI        PID   Type   Process name                  GPU Memory |\u001b[0m\n",
      "\u001b[34m|        ID   ID                                                   Usage      |\u001b[0m\n",
      "\u001b[34m|=============================================================================|\u001b[0m\n",
      "\u001b[34m|  No running processes found                                                 |\u001b[0m\n",
      "\u001b[34m+-----------------------------------------------------------------------------+\u001b[0m\n",
      "\u001b[34mChecking for nvidia driver and cuda compatibility.\u001b[0m\n",
      "\u001b[34mCUDA Compatibility driver provided.\u001b[0m\n",
      "\u001b[34mProceeding with compatibility check between driver, cuda-toolkit and cuda-compat.\u001b[0m\n",
      "\u001b[34mDetected cuda-toolkit version: 11.1.\u001b[0m\n",
      "\u001b[34mDetected cuda-compat version: 455.32.00.\u001b[0m\n",
      "\u001b[34mDetected Nvidia driver version: 525.85.12.\u001b[0m\n",
      "\u001b[34mNvidia driver compatible with cuda-toolkit. Disabling cuda-compat.\u001b[0m\n",
      "\u001b[34m[06/17/2023 16:28:54 INFO 139636280170304] Reading default configuration from /opt/amazon/lib/python3.7/site-packages/image_classification/default-input.json: {'use_pretrained_model': 0, 'num_layers': 152, 'epochs': 30, 'learning_rate': 0.1, 'lr_scheduler_factor': 0.1, 'optimizer': 'sgd', 'momentum': 0, 'weight_decay': 0.0001, 'beta_1': 0.9, 'beta_2': 0.999, 'eps': 1e-08, 'gamma': 0.9, 'mini_batch_size': 32, 'image_shape': '3,224,224', 'precision_dtype': 'float32'}\u001b[0m\n",
      "\u001b[34m[06/17/2023 16:28:54 INFO 139636280170304] Merging with provided configuration from /opt/ml/input/config/hyperparameters.json: {'image_shape': '3,32,32', 'num_classes': '2', 'num_training_samples': '1000'}\u001b[0m\n",
      "\u001b[34m[06/17/2023 16:28:54 INFO 139636280170304] Final configuration: {'use_pretrained_model': 0, 'num_layers': 152, 'epochs': 30, 'learning_rate': 0.1, 'lr_scheduler_factor': 0.1, 'optimizer': 'sgd', 'momentum': 0, 'weight_decay': 0.0001, 'beta_1': 0.9, 'beta_2': 0.999, 'eps': 1e-08, 'gamma': 0.9, 'mini_batch_size': 32, 'image_shape': '3,32,32', 'precision_dtype': 'float32', 'num_classes': '2', 'num_training_samples': '1000'}\u001b[0m\n",
      "\u001b[34m[06/17/2023 16:28:54 INFO 139636280170304] Searching for .lst files in /opt/ml/input/data/train_lst.\u001b[0m\n",
      "\u001b[34m[06/17/2023 16:28:54 INFO 139636280170304] Creating record files for train.lst\u001b[0m\n",
      "\u001b[34m[06/17/2023 16:28:54 INFO 139636280170304] Done creating record files...\u001b[0m\n",
      "\u001b[34m[06/17/2023 16:28:54 INFO 139636280170304] Searching for .lst files in /opt/ml/input/data/validation_lst.\u001b[0m\n",
      "\u001b[34m[06/17/2023 16:28:54 INFO 139636280170304] Creating record files for test.lst\u001b[0m\n",
      "\u001b[34m[06/17/2023 16:28:55 INFO 139636280170304] Done creating record files...\u001b[0m\n",
      "\u001b[34m[06/17/2023 16:28:55 INFO 139636280170304] use_pretrained_model: 0\u001b[0m\n",
      "\u001b[34m[06/17/2023 16:28:55 INFO 139636280170304] multi_label: 0\u001b[0m\n",
      "\u001b[34m[06/17/2023 16:28:55 INFO 139636280170304] Performing random weight initialization\u001b[0m\n",
      "\u001b[34m[06/17/2023 16:28:55 INFO 139636280170304] ---- Parameters ----\u001b[0m\n",
      "\u001b[34m[06/17/2023 16:28:55 INFO 139636280170304] num_layers: 152\u001b[0m\n",
      "\u001b[34m[06/17/2023 16:28:55 INFO 139636280170304] data type: <class 'numpy.float32'>\u001b[0m\n",
      "\u001b[34m[06/17/2023 16:28:55 INFO 139636280170304] epochs: 30\u001b[0m\n",
      "\u001b[34m[06/17/2023 16:28:55 INFO 139636280170304] optimizer: sgd\u001b[0m\n",
      "\u001b[34m[06/17/2023 16:28:55 INFO 139636280170304] momentum: 0.9\u001b[0m\n",
      "\u001b[34m[06/17/2023 16:28:55 INFO 139636280170304] weight_decay: 0.0001\u001b[0m\n",
      "\u001b[34m[06/17/2023 16:28:55 INFO 139636280170304] learning_rate: 0.1\u001b[0m\n",
      "\u001b[34m[06/17/2023 16:28:55 INFO 139636280170304] num_training_samples: 1000\u001b[0m\n",
      "\u001b[34m[06/17/2023 16:28:55 INFO 139636280170304] mini_batch_size: 32\u001b[0m\n",
      "\u001b[34m[06/17/2023 16:28:55 INFO 139636280170304] image_shape: 3,32,32\u001b[0m\n",
      "\u001b[34m[06/17/2023 16:28:55 INFO 139636280170304] num_classes: 2\u001b[0m\n",
      "\u001b[34m[06/17/2023 16:28:55 INFO 139636280170304] augmentation_type: None\u001b[0m\n",
      "\u001b[34m[06/17/2023 16:28:55 INFO 139636280170304] kv_store: device\u001b[0m\n",
      "\u001b[34m[06/17/2023 16:28:55 INFO 139636280170304] checkpoint_frequency not set, will store the best model\u001b[0m\n",
      "\u001b[34m[06/17/2023 16:28:55 INFO 139636280170304] --------------------\u001b[0m\n",
      "\u001b[34m[06/17/2023 16:28:55 INFO 139636280170304] Setting number of threads: 7\u001b[0m\n",
      "\u001b[34m[16:28:58] /opt/brazil-pkg-cache/packages/AIAlgorithmsMXNet/AIAlgorithmsMXNet-1.4.x_ecl_Cuda_11.1.x.205.0/AL2_x86_64/generic-flavor/src/src/operator/nn/./cudnn/./cudnn_algoreg-inl.h:97: Running performance tests to find the best convolution algorithm, this can take a while... (setting env variable MXNET_CUDNN_AUTOTUNE_DEFAULT to 0 to disable)\u001b[0m\n",
      "\u001b[34m[06/17/2023 16:29:04 INFO 139636280170304] Epoch[0] Batch [20]#011Speed: 120.403 samples/sec#011accuracy=0.547619\u001b[0m\n",
      "\u001b[34m[06/17/2023 16:29:05 INFO 139636280170304] Epoch[0] Train-accuracy=0.586694\u001b[0m\n",
      "\u001b[34m[06/17/2023 16:29:05 INFO 139636280170304] Epoch[0] Time cost=6.919\u001b[0m\n",
      "\u001b[34m[06/17/2023 16:29:06 INFO 139636280170304] Epoch[0] Validation-accuracy=0.515625\u001b[0m\n",
      "\u001b[34m[06/17/2023 16:29:06 INFO 139636280170304] Storing the best model with validation accuracy: 0.515625\u001b[0m\n",
      "\u001b[34m[06/17/2023 16:29:06 INFO 139636280170304] Saved checkpoint to \"/opt/ml/model/image-classification-0001.params\"\u001b[0m\n",
      "\u001b[34m[06/17/2023 16:29:10 INFO 139636280170304] Epoch[1] Batch [20]#011Speed: 190.212 samples/sec#011accuracy=0.729167\u001b[0m\n",
      "\u001b[34m[06/17/2023 16:29:11 INFO 139636280170304] Epoch[1] Train-accuracy=0.726815\u001b[0m\n",
      "\u001b[34m[06/17/2023 16:29:11 INFO 139636280170304] Epoch[1] Time cost=5.014\u001b[0m\n",
      "\u001b[34m[06/17/2023 16:29:12 INFO 139636280170304] Epoch[1] Validation-accuracy=0.588542\u001b[0m\n",
      "\u001b[34m[06/17/2023 16:29:12 INFO 139636280170304] Storing the best model with validation accuracy: 0.588542\u001b[0m\n",
      "\u001b[34m[06/17/2023 16:29:12 INFO 139636280170304] Saved checkpoint to \"/opt/ml/model/image-classification-0002.params\"\u001b[0m\n",
      "\u001b[34m[06/17/2023 16:29:16 INFO 139636280170304] Epoch[2] Batch [20]#011Speed: 194.137 samples/sec#011accuracy=0.738095\u001b[0m\n",
      "\u001b[34m[06/17/2023 16:29:17 INFO 139636280170304] Epoch[2] Train-accuracy=0.723790\u001b[0m\n",
      "\u001b[34m[06/17/2023 16:29:17 INFO 139636280170304] Epoch[2] Time cost=4.902\u001b[0m\n",
      "\u001b[34m[06/17/2023 16:29:18 INFO 139636280170304] Epoch[2] Validation-accuracy=0.770833\u001b[0m\n",
      "\u001b[34m[06/17/2023 16:29:18 INFO 139636280170304] Storing the best model with validation accuracy: 0.770833\u001b[0m\n",
      "\u001b[34m[06/17/2023 16:29:19 INFO 139636280170304] Saved checkpoint to \"/opt/ml/model/image-classification-0003.params\"\u001b[0m\n",
      "\u001b[34m[06/17/2023 16:29:22 INFO 139636280170304] Epoch[3] Batch [20]#011Speed: 191.289 samples/sec#011accuracy=0.729167\u001b[0m\n",
      "\u001b[34m[06/17/2023 16:29:24 INFO 139636280170304] Epoch[3] Train-accuracy=0.753024\u001b[0m\n",
      "\u001b[34m[06/17/2023 16:29:24 INFO 139636280170304] Epoch[3] Time cost=4.989\u001b[0m\n",
      "\u001b[34m[06/17/2023 16:29:24 INFO 139636280170304] Epoch[3] Validation-accuracy=0.808036\u001b[0m\n",
      "\u001b[34m[06/17/2023 16:29:24 INFO 139636280170304] Storing the best model with validation accuracy: 0.808036\u001b[0m\n",
      "\u001b[34m[06/17/2023 16:29:25 INFO 139636280170304] Saved checkpoint to \"/opt/ml/model/image-classification-0004.params\"\u001b[0m\n",
      "\u001b[34m[06/17/2023 16:29:28 INFO 139636280170304] Epoch[4] Batch [20]#011Speed: 184.808 samples/sec#011accuracy=0.775298\u001b[0m\n",
      "\u001b[34m[06/17/2023 16:29:30 INFO 139636280170304] Epoch[4] Train-accuracy=0.772177\u001b[0m\n",
      "\u001b[34m[06/17/2023 16:29:30 INFO 139636280170304] Epoch[4] Time cost=5.128\u001b[0m\n",
      "\u001b[34m[06/17/2023 16:29:30 INFO 139636280170304] Epoch[4] Validation-accuracy=0.802083\u001b[0m\n",
      "\u001b[34m[06/17/2023 16:29:34 INFO 139636280170304] Epoch[5] Batch [20]#011Speed: 185.683 samples/sec#011accuracy=0.797619\u001b[0m\n",
      "\u001b[34m[06/17/2023 16:29:36 INFO 139636280170304] Epoch[5] Train-accuracy=0.780242\u001b[0m\n",
      "\u001b[34m[06/17/2023 16:29:36 INFO 139636280170304] Epoch[5] Time cost=5.076\u001b[0m\n",
      "\u001b[34m[06/17/2023 16:29:36 INFO 139636280170304] Epoch[5] Validation-accuracy=0.848958\u001b[0m\n",
      "\u001b[34m[06/17/2023 16:29:37 INFO 139636280170304] Storing the best model with validation accuracy: 0.848958\u001b[0m\n",
      "\u001b[34m[06/17/2023 16:29:37 INFO 139636280170304] Saved checkpoint to \"/opt/ml/model/image-classification-0006.params\"\u001b[0m\n",
      "\u001b[34m[06/17/2023 16:29:40 INFO 139636280170304] Epoch[6] Batch [20]#011Speed: 194.340 samples/sec#011accuracy=0.800595\u001b[0m\n",
      "\u001b[34m[06/17/2023 16:29:42 INFO 139636280170304] Epoch[6] Train-accuracy=0.806452\u001b[0m\n",
      "\u001b[34m[06/17/2023 16:29:42 INFO 139636280170304] Epoch[6] Time cost=4.915\u001b[0m\n",
      "\u001b[34m[06/17/2023 16:29:43 INFO 139636280170304] Epoch[6] Validation-accuracy=0.765625\u001b[0m\n",
      "\u001b[34m[06/17/2023 16:29:46 INFO 139636280170304] Epoch[7] Batch [20]#011Speed: 192.752 samples/sec#011accuracy=0.791667\u001b[0m\n",
      "\u001b[34m[06/17/2023 16:29:48 INFO 139636280170304] Epoch[7] Train-accuracy=0.795363\u001b[0m\n",
      "\u001b[34m[06/17/2023 16:29:48 INFO 139636280170304] Epoch[7] Time cost=4.933\u001b[0m\n",
      "\u001b[34m[06/17/2023 16:29:48 INFO 139636280170304] Epoch[7] Validation-accuracy=0.803571\u001b[0m\n",
      "\u001b[34m[06/17/2023 16:29:52 INFO 139636280170304] Epoch[8] Batch [20]#011Speed: 192.736 samples/sec#011accuracy=0.819940\u001b[0m\n",
      "\u001b[34m[06/17/2023 16:29:54 INFO 139636280170304] Epoch[8] Train-accuracy=0.818548\u001b[0m\n",
      "\u001b[34m[06/17/2023 16:29:54 INFO 139636280170304] Epoch[8] Time cost=4.928\u001b[0m\n",
      "\u001b[34m[06/17/2023 16:29:54 INFO 139636280170304] Epoch[8] Validation-accuracy=0.838542\u001b[0m\n",
      "\u001b[34m[06/17/2023 16:29:58 INFO 139636280170304] Epoch[9] Batch [20]#011Speed: 193.424 samples/sec#011accuracy=0.857143\u001b[0m\n",
      "\u001b[34m[06/17/2023 16:30:00 INFO 139636280170304] Epoch[9] Train-accuracy=0.846774\u001b[0m\n",
      "\u001b[34m[06/17/2023 16:30:00 INFO 139636280170304] Epoch[9] Time cost=4.937\u001b[0m\n",
      "\u001b[34m[06/17/2023 16:30:00 INFO 139636280170304] Epoch[9] Validation-accuracy=0.796875\u001b[0m\n",
      "\u001b[34m[06/17/2023 16:30:04 INFO 139636280170304] Epoch[10] Batch [20]#011Speed: 188.007 samples/sec#011accuracy=0.845238\u001b[0m\n",
      "\u001b[34m[06/17/2023 16:30:06 INFO 139636280170304] Epoch[10] Train-accuracy=0.852823\u001b[0m\n",
      "\u001b[34m[06/17/2023 16:30:06 INFO 139636280170304] Epoch[10] Time cost=5.025\u001b[0m\n",
      "\u001b[34m[06/17/2023 16:30:06 INFO 139636280170304] Epoch[10] Validation-accuracy=0.781250\u001b[0m\n",
      "\u001b[34m[06/17/2023 16:30:10 INFO 139636280170304] Epoch[11] Batch [20]#011Speed: 193.141 samples/sec#011accuracy=0.855655\u001b[0m\n",
      "\u001b[34m[06/17/2023 16:30:12 INFO 139636280170304] Epoch[11] Train-accuracy=0.857863\u001b[0m\n",
      "\u001b[34m[06/17/2023 16:30:12 INFO 139636280170304] Epoch[11] Time cost=4.953\u001b[0m\n",
      "\u001b[34m[06/17/2023 16:30:12 INFO 139636280170304] Epoch[11] Validation-accuracy=0.830357\u001b[0m\n",
      "\u001b[34m[06/17/2023 16:30:16 INFO 139636280170304] Epoch[12] Batch [20]#011Speed: 192.182 samples/sec#011accuracy=0.901786\u001b[0m\n",
      "\u001b[34m[06/17/2023 16:30:18 INFO 139636280170304] Epoch[12] Train-accuracy=0.901210\u001b[0m\n",
      "\u001b[34m[06/17/2023 16:30:18 INFO 139636280170304] Epoch[12] Time cost=4.946\u001b[0m\n",
      "\u001b[34m[06/17/2023 16:30:18 INFO 139636280170304] Epoch[12] Validation-accuracy=0.869792\u001b[0m\n",
      "\u001b[34m[06/17/2023 16:30:18 INFO 139636280170304] Storing the best model with validation accuracy: 0.869792\u001b[0m\n",
      "\u001b[34m[06/17/2023 16:30:19 INFO 139636280170304] Saved checkpoint to \"/opt/ml/model/image-classification-0013.params\"\u001b[0m\n",
      "\u001b[34m[06/17/2023 16:30:22 INFO 139636280170304] Epoch[13] Batch [20]#011Speed: 190.543 samples/sec#011accuracy=0.870536\u001b[0m\n",
      "\u001b[34m[06/17/2023 16:30:24 INFO 139636280170304] Epoch[13] Train-accuracy=0.873992\u001b[0m\n",
      "\u001b[34m[06/17/2023 16:30:24 INFO 139636280170304] Epoch[13] Time cost=4.975\u001b[0m\n",
      "\u001b[34m[06/17/2023 16:30:24 INFO 139636280170304] Epoch[13] Validation-accuracy=0.848958\u001b[0m\n",
      "\u001b[34m[06/17/2023 16:30:28 INFO 139636280170304] Epoch[14] Batch [20]#011Speed: 191.750 samples/sec#011accuracy=0.924107\u001b[0m\n",
      "\u001b[34m[06/17/2023 16:30:30 INFO 139636280170304] Epoch[14] Train-accuracy=0.920363\u001b[0m\n",
      "\u001b[34m[06/17/2023 16:30:30 INFO 139636280170304] Epoch[14] Time cost=4.963\u001b[0m\n",
      "\u001b[34m[06/17/2023 16:30:30 INFO 139636280170304] Epoch[14] Validation-accuracy=0.833333\u001b[0m\n",
      "\u001b[34m[06/17/2023 16:30:34 INFO 139636280170304] Epoch[15] Batch [20]#011Speed: 192.816 samples/sec#011accuracy=0.916667\u001b[0m\n",
      "\u001b[34m[06/17/2023 16:30:36 INFO 139636280170304] Epoch[15] Train-accuracy=0.905242\u001b[0m\n",
      "\u001b[34m[06/17/2023 16:30:36 INFO 139636280170304] Epoch[15] Time cost=4.934\u001b[0m\n",
      "\u001b[34m[06/17/2023 16:30:36 INFO 139636280170304] Epoch[15] Validation-accuracy=0.803571\u001b[0m\n",
      "\u001b[34m[06/17/2023 16:30:40 INFO 139636280170304] Epoch[16] Batch [20]#011Speed: 192.307 samples/sec#011accuracy=0.901786\u001b[0m\n",
      "\u001b[34m[06/17/2023 16:30:42 INFO 139636280170304] Epoch[16] Train-accuracy=0.893145\u001b[0m\n",
      "\u001b[34m[06/17/2023 16:30:42 INFO 139636280170304] Epoch[16] Time cost=4.950\u001b[0m\n",
      "\u001b[34m[06/17/2023 16:30:42 INFO 139636280170304] Epoch[16] Validation-accuracy=0.833333\u001b[0m\n",
      "\u001b[34m[06/17/2023 16:30:46 INFO 139636280170304] Epoch[17] Batch [20]#011Speed: 193.472 samples/sec#011accuracy=0.913690\u001b[0m\n",
      "\u001b[34m[06/17/2023 16:30:47 INFO 139636280170304] Epoch[17] Train-accuracy=0.912298\u001b[0m\n",
      "\u001b[34m[06/17/2023 16:30:47 INFO 139636280170304] Epoch[17] Time cost=4.930\u001b[0m\n",
      "\u001b[34m[06/17/2023 16:30:48 INFO 139636280170304] Epoch[17] Validation-accuracy=0.833333\u001b[0m\n",
      "\u001b[34m[06/17/2023 16:30:52 INFO 139636280170304] Epoch[18] Batch [20]#011Speed: 192.067 samples/sec#011accuracy=0.937500\u001b[0m\n",
      "\u001b[34m[06/17/2023 16:30:53 INFO 139636280170304] Epoch[18] Train-accuracy=0.940524\u001b[0m\n",
      "\u001b[34m[06/17/2023 16:30:53 INFO 139636280170304] Epoch[18] Time cost=4.967\u001b[0m\n",
      "\u001b[34m[06/17/2023 16:30:54 INFO 139636280170304] Epoch[18] Validation-accuracy=0.833333\u001b[0m\n",
      "\u001b[34m[06/17/2023 16:30:58 INFO 139636280170304] Epoch[19] Batch [20]#011Speed: 192.064 samples/sec#011accuracy=0.944940\u001b[0m\n",
      "\u001b[34m[06/17/2023 16:30:59 INFO 139636280170304] Epoch[19] Train-accuracy=0.933468\u001b[0m\n",
      "\u001b[34m[06/17/2023 16:30:59 INFO 139636280170304] Epoch[19] Time cost=4.973\u001b[0m\n",
      "\u001b[34m[06/17/2023 16:31:00 INFO 139636280170304] Epoch[19] Validation-accuracy=0.772321\u001b[0m\n",
      "\u001b[34m[06/17/2023 16:31:04 INFO 139636280170304] Epoch[20] Batch [20]#011Speed: 188.133 samples/sec#011accuracy=0.937500\u001b[0m\n",
      "\u001b[34m[06/17/2023 16:31:05 INFO 139636280170304] Epoch[20] Train-accuracy=0.929435\u001b[0m\n",
      "\u001b[34m[06/17/2023 16:31:05 INFO 139636280170304] Epoch[20] Time cost=5.034\u001b[0m\n",
      "\u001b[34m[06/17/2023 16:31:06 INFO 139636280170304] Epoch[20] Validation-accuracy=0.833333\u001b[0m\n",
      "\u001b[34m[06/17/2023 16:31:10 INFO 139636280170304] Epoch[21] Batch [20]#011Speed: 193.579 samples/sec#011accuracy=0.961310\u001b[0m\n",
      "\u001b[34m[06/17/2023 16:31:11 INFO 139636280170304] Epoch[21] Train-accuracy=0.959677\u001b[0m\n",
      "\u001b[34m[06/17/2023 16:31:11 INFO 139636280170304] Epoch[21] Time cost=4.945\u001b[0m\n",
      "\u001b[34m[06/17/2023 16:31:12 INFO 139636280170304] Epoch[21] Validation-accuracy=0.817708\u001b[0m\n",
      "\u001b[34m[06/17/2023 16:31:16 INFO 139636280170304] Epoch[22] Batch [20]#011Speed: 192.030 samples/sec#011accuracy=0.961310\u001b[0m\n",
      "\u001b[34m[06/17/2023 16:31:17 INFO 139636280170304] Epoch[22] Train-accuracy=0.957661\u001b[0m\n",
      "\u001b[34m[06/17/2023 16:31:17 INFO 139636280170304] Epoch[22] Time cost=4.944\u001b[0m\n",
      "\u001b[34m[06/17/2023 16:31:18 INFO 139636280170304] Epoch[22] Validation-accuracy=0.843750\u001b[0m\n",
      "\u001b[34m[06/17/2023 16:31:21 INFO 139636280170304] Epoch[23] Batch [20]#011Speed: 192.315 samples/sec#011accuracy=0.965774\u001b[0m\n",
      "\u001b[34m[06/17/2023 16:31:23 INFO 139636280170304] Epoch[23] Train-accuracy=0.954637\u001b[0m\n",
      "\u001b[34m[06/17/2023 16:31:23 INFO 139636280170304] Epoch[23] Time cost=4.951\u001b[0m\n",
      "\u001b[34m[06/17/2023 16:31:24 INFO 139636280170304] Epoch[23] Validation-accuracy=0.816964\u001b[0m\n",
      "\u001b[34m[06/17/2023 16:31:27 INFO 139636280170304] Epoch[24] Batch [20]#011Speed: 192.240 samples/sec#011accuracy=0.947917\u001b[0m\n",
      "\u001b[34m[06/17/2023 16:31:29 INFO 139636280170304] Epoch[24] Train-accuracy=0.949597\u001b[0m\n",
      "\u001b[34m[06/17/2023 16:31:29 INFO 139636280170304] Epoch[24] Time cost=4.964\u001b[0m\n",
      "\u001b[34m[06/17/2023 16:31:29 INFO 139636280170304] Epoch[24] Validation-accuracy=0.828125\u001b[0m\n",
      "\u001b[34m[06/17/2023 16:31:33 INFO 139636280170304] Epoch[25] Batch [20]#011Speed: 195.051 samples/sec#011accuracy=0.967262\u001b[0m\n",
      "\u001b[34m[06/17/2023 16:31:35 INFO 139636280170304] Epoch[25] Train-accuracy=0.965726\u001b[0m\n",
      "\u001b[34m[06/17/2023 16:31:35 INFO 139636280170304] Epoch[25] Time cost=4.894\u001b[0m\n",
      "\u001b[34m[06/17/2023 16:31:35 INFO 139636280170304] Epoch[25] Validation-accuracy=0.838542\u001b[0m\n",
      "\u001b[34m[06/17/2023 16:31:39 INFO 139636280170304] Epoch[26] Batch [20]#011Speed: 194.971 samples/sec#011accuracy=0.943452\u001b[0m\n",
      "\u001b[34m[06/17/2023 16:31:41 INFO 139636280170304] Epoch[26] Train-accuracy=0.948589\u001b[0m\n",
      "\u001b[34m[06/17/2023 16:31:41 INFO 139636280170304] Epoch[26] Time cost=4.890\u001b[0m\n",
      "\u001b[34m[06/17/2023 16:31:41 INFO 139636280170304] Epoch[26] Validation-accuracy=0.838542\u001b[0m\n",
      "\u001b[34m[06/17/2023 16:31:45 INFO 139636280170304] Epoch[27] Batch [20]#011Speed: 193.219 samples/sec#011accuracy=0.967262\u001b[0m\n",
      "\u001b[34m[06/17/2023 16:31:47 INFO 139636280170304] Epoch[27] Train-accuracy=0.968750\u001b[0m\n",
      "\u001b[34m[06/17/2023 16:31:47 INFO 139636280170304] Epoch[27] Time cost=4.922\u001b[0m\n",
      "\u001b[34m[06/17/2023 16:31:47 INFO 139636280170304] Epoch[27] Validation-accuracy=0.812500\u001b[0m\n",
      "\u001b[34m[06/17/2023 16:31:51 INFO 139636280170304] Epoch[28] Batch [20]#011Speed: 192.420 samples/sec#011accuracy=0.980655\u001b[0m\n",
      "\u001b[34m[06/17/2023 16:31:53 INFO 139636280170304] Epoch[28] Train-accuracy=0.971774\u001b[0m\n",
      "\u001b[34m[06/17/2023 16:31:53 INFO 139636280170304] Epoch[28] Time cost=4.960\u001b[0m\n",
      "\u001b[34m[06/17/2023 16:31:53 INFO 139636280170304] Epoch[28] Validation-accuracy=0.760417\u001b[0m\n",
      "\u001b[34m[06/17/2023 16:31:57 INFO 139636280170304] Epoch[29] Batch [20]#011Speed: 193.059 samples/sec#011accuracy=0.976190\u001b[0m\n",
      "\u001b[34m[06/17/2023 16:31:58 INFO 139636280170304] Epoch[29] Train-accuracy=0.977823\u001b[0m\n",
      "\u001b[34m[06/17/2023 16:31:58 INFO 139636280170304] Epoch[29] Time cost=4.930\u001b[0m\n",
      "\u001b[34m[06/17/2023 16:31:59 INFO 139636280170304] Epoch[29] Validation-accuracy=0.817708\u001b[0m\n",
      "\n",
      "2023-06-17 16:32:03 Uploading - Uploading generated training model\n",
      "2023-06-17 16:32:44 Completed - Training job completed\n",
      "Training seconds: 433\n",
      "Billable seconds: 433\n"
     ]
    }
   ],
   "source": [
    "img_classifier_model.fit(inputs=model_inputs)"
   ]
  },
  {
   "cell_type": "markdown",
   "metadata": {},
   "source": [
    "We have a validation accuracy around ~82\\%, which could probably be improved by increasing the size of the training set and/or augmenting the data but as we're mostly interested in creating a working pipeline, we proceed to deployment.\n",
    "\n",
    "### Deployment with data capture\n",
    "Once the trained model is deployed to an endpoint, we'd like to monitor its output for ongoing analysis. We can do this by configuring the endpoint capture the inference data."
   ]
  },
  {
   "cell_type": "code",
   "execution_count": 3,
   "metadata": {},
   "outputs": [],
   "source": [
    "from sagemaker.model_monitor import DataCaptureConfig\n",
    "\n",
    "data_capture_config = DataCaptureConfig(\n",
    "    enable_capture=True,\n",
    "    sampling_percentage=100,\n",
    "    destination_s3_uri=f\"s3://{bucket}/data_capture\"\n",
    ")"
   ]
  },
  {
   "cell_type": "markdown",
   "metadata": {},
   "source": [
    "We then pass this to the endpoint and deploy the model."
   ]
  },
  {
   "cell_type": "code",
   "execution_count": 5,
   "metadata": {},
   "outputs": [
    {
     "name": "stdout",
     "output_type": "stream",
     "text": [
      "--------!\n",
      "Endpoint name: image-classification-2023-07-12-10-23-43-670\n"
     ]
    }
   ],
   "source": [
    "deployment = img_classifier_model.deploy(\n",
    "    initial_instance_count=1, \n",
    "    instance_type='ml.m5.xlarge',\n",
    "    data_capture_config=data_capture_config\n",
    "    )\n",
    "\n",
    "endpoint = deployment.endpoint_name\n",
    "\n",
    "print(f\"\\nEndpoint name: {endpoint}\")"
   ]
  },
  {
   "cell_type": "markdown",
   "metadata": {},
   "source": [
    "The following code instantiates a Predictor and passes a test image to the endpoint for inference. "
   ]
  },
  {
   "cell_type": "code",
   "execution_count": 13,
   "metadata": {},
   "outputs": [
    {
     "name": "stdout",
     "output_type": "stream",
     "text": [
      "b'[0.8627853989601135, 0.13721458613872528]'\n"
     ]
    }
   ],
   "source": [
    "from sagemaker.predictor import Predictor\n",
    "from sagemaker.serializers import IdentitySerializer\n",
    "import base64\n",
    "\n",
    "predictor = Predictor(endpoint)\n",
    "\n",
    "predictor.serializer = IdentitySerializer(\"image/png\")\n",
    "with open(\"./test/bicycle_s_001789.png\", \"rb\") as f:\n",
    "    payload = f.read()\n",
    "\n",
    "inference = predictor.predict(payload)\n",
    "\n",
    "print(inference)"
   ]
  },
  {
   "cell_type": "markdown",
   "metadata": {},
   "source": [
    "The `inference` object is an array of two values that indicate the classification probability for each of the classes (bicycle and motorcycle, respectively located at index 0 and 1). In the test case above, the model infers that the image is a bicycle with 86\\% probability."
   ]
  },
  {
   "cell_type": "markdown",
   "metadata": {},
   "source": [
    "## Lambda and Step Function workflow\n",
    "We now deploy three Lambda functions and chain them together using a Step Function. The Step Function\n",
    "1. serialises the image data;\n",
    "2. calls the model to make an inference; and\n",
    "3. checks the result of the prediction against a pre-defined threshold and throws an error if this was not met. \n",
    "\n",
    "A visualisation of the workflow is given below.\n",
    "\n",
    "<img src=\"./screenshots/workflow1.png\" width=\"30%\"/>\n",
    "\n",
    "Code for the Lambdas and the Step Function can be found in folders of the same names. Note that the second Lambda has Sagemaker runtime dependencies and this needs to be added as a layer for the Step Function to succeed.\n",
    "\n",
    "The first Lambda downloads an image from S3, serialises it and passes the image data to the second for inference, the result of which is passed to the third. The threshold in the current case is set to 0.95, meaning that for the test image above the Step Function would error out; if one of the probabilities was $\\ge$0.95, then the Step Function would succeed.\n",
    "\n",
    "Two screenshots of the Step Function working as described are included below.\n",
    "\n",
    "<img src=\"./screenshots/pass.png\" width=\"80%\"/>\n",
    "<img src=\"./screenshots/fail.png\" width=\"80%\"/>"
   ]
  },
  {
   "cell_type": "markdown",
   "metadata": {},
   "source": [
    "### Testing and Evaluation\n",
    "The following code generates random test cases by accessing test images from S3 and dumping them into the appropriate format for the Step Function. "
   ]
  },
  {
   "cell_type": "code",
   "execution_count": 21,
   "metadata": {},
   "outputs": [
    {
     "data": {
      "text/plain": [
       "'{\"image_data\": \"\", \"s3_bucket\": \"sagemaker-us-east-1-432701591564\", \"s3_key\": \"test/motorcycle_s_000685.png\"}'"
      ]
     },
     "execution_count": 21,
     "metadata": {},
     "output_type": "execute_result"
    }
   ],
   "source": [
    "import random\n",
    "import boto3\n",
    "import json\n",
    "\n",
    "\n",
    "def generate_test_case():\n",
    "    s3 = boto3.resource('s3')\n",
    "    \n",
    "    objects = s3.Bucket(bucket).objects.filter(Prefix=\"test/\")\n",
    "    \n",
    "    # Randomly selects an image from the test folder\n",
    "    obj = random.choice([img.key for img in objects])\n",
    "    \n",
    "    return json.dumps({\n",
    "        \"image_data\": \"\",\n",
    "        \"s3_bucket\": bucket,\n",
    "        \"s3_key\": obj\n",
    "    })\n",
    "generate_test_case()"
   ]
  },
  {
   "cell_type": "markdown",
   "metadata": {},
   "source": [
    "We generate several test cases and run them through the Step Function. The endpoint was configured earlier to capture the data from inferences and save it to S3. It is stored as multiple JSON objects stacked on top of one another. The following code downloads the data locally, extracts the inference and timestamp for each point, and makes a basic plot illustrating model performance relative to threshold."
   ]
  },
  {
   "cell_type": "code",
   "execution_count": 23,
   "metadata": {},
   "outputs": [
    {
     "data": {
      "image/png": "[encoded data removed]",
      "text/plain": [
       "<Figure size 640x480 with 1 Axes>"
      ]
     },
     "metadata": {},
     "output_type": "display_data"
    }
   ],
   "source": [
    "import jsonlines\n",
    "from sagemaker.s3 import S3Downloader\n",
    "import matplotlib.pyplot as plt\n",
    "%matplotlib inline\n",
    "\n",
    "def get_datapoint(obj):\n",
    "    inferences = obj[\"captureData\"][\"endpointOutput\"][\"data\"]\n",
    "    timestamp = obj[\"eventMetadata\"][\"inferenceTime\"]\n",
    "    return json.loads(inferences), timestamp\n",
    "\n",
    "# Path to captured data of interest\n",
    "data_path = \"s3://sagemaker-us-east-1-432701591564/data_capture/image-classification-2023-07-12-10-23-43-670/AllTraffic/2023/07/12/11/\"\n",
    "\n",
    "# Download to local dir\n",
    "S3Downloader.download(data_path, \"captured_data\")\n",
    "\n",
    "# List file names\n",
    "file_handles = os.listdir(\"./captured_data\")\n",
    "\n",
    "# Dump data into an array\n",
    "json_data = []\n",
    "for jsonl in file_handles:\n",
    "    with jsonlines.open(f\"./captured_data/{jsonl}\") as f:\n",
    "        json_data.append(f.read())\n",
    "        \n",
    "# Populate the data for the x and y axis\n",
    "x, y = [], []\n",
    "for obj in json_data:\n",
    "    inference, timestamp = get_datapoint(obj)\n",
    "    \n",
    "    y.append(max(inference))\n",
    "    x.append(timestamp)\n",
    "\n",
    "plt.scatter(x, y, c=['r' if k < .95 else 'b' for k in y ])\n",
    "plt.axhline(y=0.95, color='g', linestyle='--')\n",
    "plt.ylim(bottom=min(y)-0.01, top=1.01)\n",
    "\n",
    "plt.ylabel(\"Confidence\")\n",
    "plt.suptitle(\"Observed Recent Inferences\", size=14)\n",
    "plt.title(\"Pictured with confidence threshold for production use\", size=10)\n",
    "\n",
    "plt.style.use(\"Solarize_Light2\")\n",
    "plt.gcf().autofmt_xdate()"
   ]
  }
 ],
 "metadata": {
  "availableInstances": [
   {
    "_defaultOrder": 0,
    "_isFastLaunch": true,
    "category": "General purpose",
    "gpuNum": 0,
    "hideHardwareSpecs": false,
    "memoryGiB": 4,
    "name": "ml.t3.medium",
    "vcpuNum": 2
   },
   {
    "_defaultOrder": 1,
    "_isFastLaunch": false,
    "category": "General purpose",
    "gpuNum": 0,
    "hideHardwareSpecs": false,
    "memoryGiB": 8,
    "name": "ml.t3.large",
    "vcpuNum": 2
   },
   {
    "_defaultOrder": 2,
    "_isFastLaunch": false,
    "category": "General purpose",
    "gpuNum": 0,
    "hideHardwareSpecs": false,
    "memoryGiB": 16,
    "name": "ml.t3.xlarge",
    "vcpuNum": 4
   },
   {
    "_defaultOrder": 3,
    "_isFastLaunch": false,
    "category": "General purpose",
    "gpuNum": 0,
    "hideHardwareSpecs": false,
    "memoryGiB": 32,
    "name": "ml.t3.2xlarge",
    "vcpuNum": 8
   },
   {
    "_defaultOrder": 4,
    "_isFastLaunch": true,
    "category": "General purpose",
    "gpuNum": 0,
    "hideHardwareSpecs": false,
    "memoryGiB": 8,
    "name": "ml.m5.large",
    "vcpuNum": 2
   },
   {
    "_defaultOrder": 5,
    "_isFastLaunch": false,
    "category": "General purpose",
    "gpuNum": 0,
    "hideHardwareSpecs": false,
    "memoryGiB": 16,
    "name": "ml.m5.xlarge",
    "vcpuNum": 4
   },
   {
    "_defaultOrder": 6,
    "_isFastLaunch": false,
    "category": "General purpose",
    "gpuNum": 0,
    "hideHardwareSpecs": false,
    "memoryGiB": 32,
    "name": "ml.m5.2xlarge",
    "vcpuNum": 8
   },
   {
    "_defaultOrder": 7,
    "_isFastLaunch": false,
    "category": "General purpose",
    "gpuNum": 0,
    "hideHardwareSpecs": false,
    "memoryGiB": 64,
    "name": "ml.m5.4xlarge",
    "vcpuNum": 16
   },
   {
    "_defaultOrder": 8,
    "_isFastLaunch": false,
    "category": "General purpose",
    "gpuNum": 0,
    "hideHardwareSpecs": false,
    "memoryGiB": 128,
    "name": "ml.m5.8xlarge",
    "vcpuNum": 32
   },
   {
    "_defaultOrder": 9,
    "_isFastLaunch": false,
    "category": "General purpose",
    "gpuNum": 0,
    "hideHardwareSpecs": false,
    "memoryGiB": 192,
    "name": "ml.m5.12xlarge",
    "vcpuNum": 48
   },
   {
    "_defaultOrder": 10,
    "_isFastLaunch": false,
    "category": "General purpose",
    "gpuNum": 0,
    "hideHardwareSpecs": false,
    "memoryGiB": 256,
    "name": "ml.m5.16xlarge",
    "vcpuNum": 64
   },
   {
    "_defaultOrder": 11,
    "_isFastLaunch": false,
    "category": "General purpose",
    "gpuNum": 0,
    "hideHardwareSpecs": false,
    "memoryGiB": 384,
    "name": "ml.m5.24xlarge",
    "vcpuNum": 96
   },
   {
    "_defaultOrder": 12,
    "_isFastLaunch": false,
    "category": "General purpose",
    "gpuNum": 0,
    "hideHardwareSpecs": false,
    "memoryGiB": 8,
    "name": "ml.m5d.large",
    "vcpuNum": 2
   },
   {
    "_defaultOrder": 13,
    "_isFastLaunch": false,
    "category": "General purpose",
    "gpuNum": 0,
    "hideHardwareSpecs": false,
    "memoryGiB": 16,
    "name": "ml.m5d.xlarge",
    "vcpuNum": 4
   },
   {
    "_defaultOrder": 14,
    "_isFastLaunch": false,
    "category": "General purpose",
    "gpuNum": 0,
    "hideHardwareSpecs": false,
    "memoryGiB": 32,
    "name": "ml.m5d.2xlarge",
    "vcpuNum": 8
   },
   {
    "_defaultOrder": 15,
    "_isFastLaunch": false,
    "category": "General purpose",
    "gpuNum": 0,
    "hideHardwareSpecs": false,
    "memoryGiB": 64,
    "name": "ml.m5d.4xlarge",
    "vcpuNum": 16
   },
   {
    "_defaultOrder": 16,
    "_isFastLaunch": false,
    "category": "General purpose",
    "gpuNum": 0,
    "hideHardwareSpecs": false,
    "memoryGiB": 128,
    "name": "ml.m5d.8xlarge",
    "vcpuNum": 32
   },
   {
    "_defaultOrder": 17,
    "_isFastLaunch": false,
    "category": "General purpose",
    "gpuNum": 0,
    "hideHardwareSpecs": false,
    "memoryGiB": 192,
    "name": "ml.m5d.12xlarge",
    "vcpuNum": 48
   },
   {
    "_defaultOrder": 18,
    "_isFastLaunch": false,
    "category": "General purpose",
    "gpuNum": 0,
    "hideHardwareSpecs": false,
    "memoryGiB": 256,
    "name": "ml.m5d.16xlarge",
    "vcpuNum": 64
   },
   {
    "_defaultOrder": 19,
    "_isFastLaunch": false,
    "category": "General purpose",
    "gpuNum": 0,
    "hideHardwareSpecs": false,
    "memoryGiB": 384,
    "name": "ml.m5d.24xlarge",
    "vcpuNum": 96
   },
   {
    "_defaultOrder": 20,
    "_isFastLaunch": false,
    "category": "General purpose",
    "gpuNum": 0,
    "hideHardwareSpecs": true,
    "memoryGiB": 0,
    "name": "ml.geospatial.interactive",
    "supportedImageNames": [
     "sagemaker-geospatial-v1-0"
    ],
    "vcpuNum": 0
   },
   {
    "_defaultOrder": 21,
    "_isFastLaunch": true,
    "category": "Compute optimized",
    "gpuNum": 0,
    "hideHardwareSpecs": false,
    "memoryGiB": 4,
    "name": "ml.c5.large",
    "vcpuNum": 2
   },
   {
    "_defaultOrder": 22,
    "_isFastLaunch": false,
    "category": "Compute optimized",
    "gpuNum": 0,
    "hideHardwareSpecs": false,
    "memoryGiB": 8,
    "name": "ml.c5.xlarge",
    "vcpuNum": 4
   },
   {
    "_defaultOrder": 23,
    "_isFastLaunch": false,
    "category": "Compute optimized",
    "gpuNum": 0,
    "hideHardwareSpecs": false,
    "memoryGiB": 16,
    "name": "ml.c5.2xlarge",
    "vcpuNum": 8
   },
   {
    "_defaultOrder": 24,
    "_isFastLaunch": false,
    "category": "Compute optimized",
    "gpuNum": 0,
    "hideHardwareSpecs": false,
    "memoryGiB": 32,
    "name": "ml.c5.4xlarge",
    "vcpuNum": 16
   },
   {
    "_defaultOrder": 25,
    "_isFastLaunch": false,
    "category": "Compute optimized",
    "gpuNum": 0,
    "hideHardwareSpecs": false,
    "memoryGiB": 72,
    "name": "ml.c5.9xlarge",
    "vcpuNum": 36
   },
   {
    "_defaultOrder": 26,
    "_isFastLaunch": false,
    "category": "Compute optimized",
    "gpuNum": 0,
    "hideHardwareSpecs": false,
    "memoryGiB": 96,
    "name": "ml.c5.12xlarge",
    "vcpuNum": 48
   },
   {
    "_defaultOrder": 27,
    "_isFastLaunch": false,
    "category": "Compute optimized",
    "gpuNum": 0,
    "hideHardwareSpecs": false,
    "memoryGiB": 144,
    "name": "ml.c5.18xlarge",
    "vcpuNum": 72
   },
   {
    "_defaultOrder": 28,
    "_isFastLaunch": false,
    "category": "Compute optimized",
    "gpuNum": 0,
    "hideHardwareSpecs": false,
    "memoryGiB": 192,
    "name": "ml.c5.24xlarge",
    "vcpuNum": 96
   },
   {
    "_defaultOrder": 29,
    "_isFastLaunch": true,
    "category": "Accelerated computing",
    "gpuNum": 1,
    "hideHardwareSpecs": false,
    "memoryGiB": 16,
    "name": "ml.g4dn.xlarge",
    "vcpuNum": 4
   },
   {
    "_defaultOrder": 30,
    "_isFastLaunch": false,
    "category": "Accelerated computing",
    "gpuNum": 1,
    "hideHardwareSpecs": false,
    "memoryGiB": 32,
    "name": "ml.g4dn.2xlarge",
    "vcpuNum": 8
   },
   {
    "_defaultOrder": 31,
    "_isFastLaunch": false,
    "category": "Accelerated computing",
    "gpuNum": 1,
    "hideHardwareSpecs": false,
    "memoryGiB": 64,
    "name": "ml.g4dn.4xlarge",
    "vcpuNum": 16
   },
   {
    "_defaultOrder": 32,
    "_isFastLaunch": false,
    "category": "Accelerated computing",
    "gpuNum": 1,
    "hideHardwareSpecs": false,
    "memoryGiB": 128,
    "name": "ml.g4dn.8xlarge",
    "vcpuNum": 32
   },
   {
    "_defaultOrder": 33,
    "_isFastLaunch": false,
    "category": "Accelerated computing",
    "gpuNum": 4,
    "hideHardwareSpecs": false,
    "memoryGiB": 192,
    "name": "ml.g4dn.12xlarge",
    "vcpuNum": 48
   },
   {
    "_defaultOrder": 34,
    "_isFastLaunch": false,
    "category": "Accelerated computing",
    "gpuNum": 1,
    "hideHardwareSpecs": false,
    "memoryGiB": 256,
    "name": "ml.g4dn.16xlarge",
    "vcpuNum": 64
   },
   {
    "_defaultOrder": 35,
    "_isFastLaunch": false,
    "category": "Accelerated computing",
    "gpuNum": 1,
    "hideHardwareSpecs": false,
    "memoryGiB": 61,
    "name": "ml.p3.2xlarge",
    "vcpuNum": 8
   },
   {
    "_defaultOrder": 36,
    "_isFastLaunch": false,
    "category": "Accelerated computing",
    "gpuNum": 4,
    "hideHardwareSpecs": false,
    "memoryGiB": 244,
    "name": "ml.p3.8xlarge",
    "vcpuNum": 32
   },
   {
    "_defaultOrder": 37,
    "_isFastLaunch": false,
    "category": "Accelerated computing",
    "gpuNum": 8,
    "hideHardwareSpecs": false,
    "memoryGiB": 488,
    "name": "ml.p3.16xlarge",
    "vcpuNum": 64
   },
   {
    "_defaultOrder": 38,
    "_isFastLaunch": false,
    "category": "Accelerated computing",
    "gpuNum": 8,
    "hideHardwareSpecs": false,
    "memoryGiB": 768,
    "name": "ml.p3dn.24xlarge",
    "vcpuNum": 96
   },
   {
    "_defaultOrder": 39,
    "_isFastLaunch": false,
    "category": "Memory Optimized",
    "gpuNum": 0,
    "hideHardwareSpecs": false,
    "memoryGiB": 16,
    "name": "ml.r5.large",
    "vcpuNum": 2
   },
   {
    "_defaultOrder": 40,
    "_isFastLaunch": false,
    "category": "Memory Optimized",
    "gpuNum": 0,
    "hideHardwareSpecs": false,
    "memoryGiB": 32,
    "name": "ml.r5.xlarge",
    "vcpuNum": 4
   },
   {
    "_defaultOrder": 41,
    "_isFastLaunch": false,
    "category": "Memory Optimized",
    "gpuNum": 0,
    "hideHardwareSpecs": false,
    "memoryGiB": 64,
    "name": "ml.r5.2xlarge",
    "vcpuNum": 8
   },
   {
    "_defaultOrder": 42,
    "_isFastLaunch": false,
    "category": "Memory Optimized",
    "gpuNum": 0,
    "hideHardwareSpecs": false,
    "memoryGiB": 128,
    "name": "ml.r5.4xlarge",
    "vcpuNum": 16
   },
   {
    "_defaultOrder": 43,
    "_isFastLaunch": false,
    "category": "Memory Optimized",
    "gpuNum": 0,
    "hideHardwareSpecs": false,
    "memoryGiB": 256,
    "name": "ml.r5.8xlarge",
    "vcpuNum": 32
   },
   {
    "_defaultOrder": 44,
    "_isFastLaunch": false,
    "category": "Memory Optimized",
    "gpuNum": 0,
    "hideHardwareSpecs": false,
    "memoryGiB": 384,
    "name": "ml.r5.12xlarge",
    "vcpuNum": 48
   },
   {
    "_defaultOrder": 45,
    "_isFastLaunch": false,
    "category": "Memory Optimized",
    "gpuNum": 0,
    "hideHardwareSpecs": false,
    "memoryGiB": 512,
    "name": "ml.r5.16xlarge",
    "vcpuNum": 64
   },
   {
    "_defaultOrder": 46,
    "_isFastLaunch": false,
    "category": "Memory Optimized",
    "gpuNum": 0,
    "hideHardwareSpecs": false,
    "memoryGiB": 768,
    "name": "ml.r5.24xlarge",
    "vcpuNum": 96
   },
   {
    "_defaultOrder": 47,
    "_isFastLaunch": false,
    "category": "Accelerated computing",
    "gpuNum": 1,
    "hideHardwareSpecs": false,
    "memoryGiB": 16,
    "name": "ml.g5.xlarge",
    "vcpuNum": 4
   },
   {
    "_defaultOrder": 48,
    "_isFastLaunch": false,
    "category": "Accelerated computing",
    "gpuNum": 1,
    "hideHardwareSpecs": false,
    "memoryGiB": 32,
    "name": "ml.g5.2xlarge",
    "vcpuNum": 8
   },
   {
    "_defaultOrder": 49,
    "_isFastLaunch": false,
    "category": "Accelerated computing",
    "gpuNum": 1,
    "hideHardwareSpecs": false,
    "memoryGiB": 64,
    "name": "ml.g5.4xlarge",
    "vcpuNum": 16
   },
   {
    "_defaultOrder": 50,
    "_isFastLaunch": false,
    "category": "Accelerated computing",
    "gpuNum": 1,
    "hideHardwareSpecs": false,
    "memoryGiB": 128,
    "name": "ml.g5.8xlarge",
    "vcpuNum": 32
   },
   {
    "_defaultOrder": 51,
    "_isFastLaunch": false,
    "category": "Accelerated computing",
    "gpuNum": 1,
    "hideHardwareSpecs": false,
    "memoryGiB": 256,
    "name": "ml.g5.16xlarge",
    "vcpuNum": 64
   },
   {
    "_defaultOrder": 52,
    "_isFastLaunch": false,
    "category": "Accelerated computing",
    "gpuNum": 4,
    "hideHardwareSpecs": false,
    "memoryGiB": 192,
    "name": "ml.g5.12xlarge",
    "vcpuNum": 48
   },
   {
    "_defaultOrder": 53,
    "_isFastLaunch": false,
    "category": "Accelerated computing",
    "gpuNum": 4,
    "hideHardwareSpecs": false,
    "memoryGiB": 384,
    "name": "ml.g5.24xlarge",
    "vcpuNum": 96
   },
   {
    "_defaultOrder": 54,
    "_isFastLaunch": false,
    "category": "Accelerated computing",
    "gpuNum": 8,
    "hideHardwareSpecs": false,
    "memoryGiB": 768,
    "name": "ml.g5.48xlarge",
    "vcpuNum": 192
   },
   {
    "_defaultOrder": 55,
    "_isFastLaunch": false,
    "category": "Accelerated computing",
    "gpuNum": 8,
    "hideHardwareSpecs": false,
    "memoryGiB": 1152,
    "name": "ml.p4d.24xlarge",
    "vcpuNum": 96
   },
   {
    "_defaultOrder": 56,
    "_isFastLaunch": false,
    "category": "Accelerated computing",
    "gpuNum": 8,
    "hideHardwareSpecs": false,
    "memoryGiB": 1152,
    "name": "ml.p4de.24xlarge",
    "vcpuNum": 96
   }
  ],
  "instance_type": "ml.t3.medium",
  "kernelspec": {
   "display_name": "Python 3",
   "language": "python",
   "name": "python3"
  },
  "language_info": {
   "codemirror_mode": {
    "name": "ipython",
    "version": 3
   },
   "file_extension": ".py",
   "mimetype": "text/x-python",
   "name": "python",
   "nbconvert_exporter": "python",
   "pygments_lexer": "ipython3",
   "version": "3.8.8"
  }
 },
 "nbformat": 4,
 "nbformat_minor": 4
}
